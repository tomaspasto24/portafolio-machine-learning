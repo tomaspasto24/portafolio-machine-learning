{
  "nbformat": 4,
  "nbformat_minor": 0,
  "metadata": {
    "colab": {
      "provenance": []
    },
    "kernelspec": {
      "name": "python3",
      "display_name": "Python 3"
    },
    "language_info": {
      "name": "python"
    }
  },
  "cells": [
    {
      "cell_type": "markdown",
      "source": [
        "# Aclaración\n",
        "Insertar archivos iris.uci.data.csv y iris.rapidm.data.csv en el directorio raíz donde se ejecuta este script. Estos archivos se encuentran anexados en la entrega.\n",
        "\n",
        "---\n",
        "\n"
      ],
      "metadata": {
        "id": "avuAdL-RWYKR"
      }
    },
    {
      "cell_type": "code",
      "execution_count": 3,
      "metadata": {
        "id": "kowfCqdq1eNi"
      },
      "outputs": [],
      "source": [
        "import pandas as pd"
      ]
    },
    {
      "cell_type": "code",
      "source": [
        "# Leer archivos csv\n",
        "\n",
        "csv_file_path_uci = 'iris.uci.data.csv'\n",
        "csv_file_path_rapidm = 'iris.rapidm.data.csv'\n",
        "dataSetIrisUCI = pd.read_csv(csv_file_path_uci, header=None)\n",
        "dataSetIrisRapidM = pd.read_csv(csv_file_path_rapidm, header=None)"
      ],
      "metadata": {
        "id": "3dj3KQAA4oA9"
      },
      "execution_count": 4,
      "outputs": []
    },
    {
      "cell_type": "code",
      "source": [
        "# Datos repositorio UCI\n",
        "statistics = dataSetIrisUCI.describe()\n",
        "\n",
        "means = statistics.loc['mean']\n",
        "variances = statistics.loc['std'] ** 2\n",
        "standard_deviations = statistics.loc['std']\n",
        "\n",
        "print('Lognitud del sepalo' )\n",
        "print('Media: ' + str(means.iloc[0]))\n",
        "print('Desvío estandar: : ' + str(variances.iloc[0]))\n",
        "print('Varianza: : ' + str(standard_deviations.iloc[0]))\n",
        "print('')\n",
        "\n",
        "print('Ancho del sepalo')\n",
        "print('Media: '+ str(means.iloc[1]))\n",
        "print('Desvío estandar: : ' + str(variances.iloc[1]))\n",
        "print('Varianza: : ' + str(standard_deviations.iloc[1]))\n",
        "print('')\n",
        "\n",
        "print('Longitud del petalo')\n",
        "print('Media: '+ str(means.iloc[2]))\n",
        "print('Desvío estandar: : ' + str(variances.iloc[2]))\n",
        "print('Varianza: : ' + str(standard_deviations.iloc[2]))\n",
        "print('')\n",
        "\n",
        "print('Ancho del petalo')\n",
        "print('Media: '+ str(means.iloc[3]))\n",
        "print('Desvío estandar: : ' + str(variances.iloc[3]))\n",
        "print('Varianza: : ' + str(standard_deviations.iloc[3]))"
      ],
      "metadata": {
        "id": "ylNKE8LG6B8g",
        "colab": {
          "base_uri": "https://localhost:8080/"
        },
        "outputId": "e24bed87-8e10-458a-eaf7-429fe41d3348"
      },
      "execution_count": 5,
      "outputs": [
        {
          "output_type": "stream",
          "name": "stdout",
          "text": [
            "Lognitud del sepalo\n",
            "Media: 5.843333333333334\n",
            "Desvío estandar: : 0.6856935123042507\n",
            "Varianza: : 0.828066127977863\n",
            "\n",
            "Ancho del sepalo\n",
            "Media: 3.0540000000000003\n",
            "Desvío estandar: : 0.18800402684563763\n",
            "Varianza: : 0.4335943113621737\n",
            "\n",
            "Longitud del petalo\n",
            "Media: 3.758666666666666\n",
            "Desvío estandar: : 3.1131794183445187\n",
            "Varianza: : 1.7644204199522626\n",
            "\n",
            "Ancho del petalo\n",
            "Media: 1.1986666666666668\n",
            "Desvío estandar: : 0.5824143176733779\n",
            "Varianza: : 0.7631607417008411\n"
          ]
        }
      ]
    },
    {
      "cell_type": "code",
      "source": [
        "# Datos RapidMiner\n",
        "statistics = dataSetIrisRapidM.describe()\n",
        "\n",
        "\n",
        "means = statistics.loc['mean']\n",
        "variances = statistics.loc['std'] ** 2\n",
        "standard_deviations = statistics.loc['std']\n",
        "\n",
        "print('Lognitud del sepalo' )\n",
        "print('Media: ' + str(means.iloc[0]))\n",
        "print('Desvío estandar: : ' + str(variances.iloc[0]))\n",
        "print('Varianza: : ' + str(standard_deviations.iloc[0]))\n",
        "print('')\n",
        "\n",
        "print('Ancho del sepalo')\n",
        "print('Media: '+ str(means.iloc[1]))\n",
        "print('Desvío estandar: : ' + str(variances.iloc[1]))\n",
        "print('Varianza: : ' + str(standard_deviations.iloc[1]))\n",
        "print('')\n",
        "\n",
        "print('Longitud del petalo')\n",
        "print('Media: '+ str(means.iloc[2]))\n",
        "print('Desvío estandar: : ' + str(variances.iloc[2]))\n",
        "print('Varianza: : ' + str(standard_deviations.iloc[2]))\n",
        "print('')\n",
        "\n",
        "print('Ancho del petalo')\n",
        "print('Media: '+ str(means.iloc[3]))\n",
        "print('Desvío estandar: : ' + str(variances.iloc[3]))\n",
        "print('Varianza: : ' + str(standard_deviations.iloc[3]))"
      ],
      "metadata": {
        "id": "nVK5AypZCKaH",
        "colab": {
          "base_uri": "https://localhost:8080/"
        },
        "outputId": "9d7e55a1-f4ad-4a47-93a0-43e56b220627"
      },
      "execution_count": 6,
      "outputs": [
        {
          "output_type": "stream",
          "name": "stdout",
          "text": [
            "Lognitud del sepalo\n",
            "Media: 5.843333333333334\n",
            "Desvío estandar: : 0.6856935123042507\n",
            "Varianza: : 0.828066127977863\n",
            "\n",
            "Ancho del sepalo\n",
            "Media: 3.0540000000000003\n",
            "Desvío estandar: : 0.18800402684563763\n",
            "Varianza: : 0.4335943113621737\n",
            "\n",
            "Longitud del petalo\n",
            "Media: 3.758666666666666\n",
            "Desvío estandar: : 3.1131794183445187\n",
            "Varianza: : 1.7644204199522626\n",
            "\n",
            "Ancho del petalo\n",
            "Media: 1.1986666666666668\n",
            "Desvío estandar: : 0.5824143176733779\n",
            "Varianza: : 0.7631607417008411\n"
          ]
        }
      ]
    },
    {
      "cell_type": "markdown",
      "source": [
        "# Conclusión\n",
        "\n",
        "Tanto el dataSet obtenido del repositorio UCI como el descargado de RapidMiner, tuvieron que ser adulterados para que los formatos sean aceptados por la libreria pandas.\n",
        "\n",
        "Se puede notar que los datos proporcionados tienen una similitud bastante grande, con pequeñas incertidumbres de error."
      ],
      "metadata": {
        "id": "t8TVPp0JW-14"
      }
    }
  ]
}